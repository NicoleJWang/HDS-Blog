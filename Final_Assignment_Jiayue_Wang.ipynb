{
  "cells": [
    {
      "cell_type": "markdown",
      "metadata": {
        "id": "view-in-github",
        "colab_type": "text"
      },
      "source": [
        "<a href=\"https://colab.research.google.com/github/NicoleJWang/HDS-Blog/blob/main/Final_Assignment_Jiayue_Wang.ipynb\" target=\"_parent\"><img src=\"https://colab.research.google.com/assets/colab-badge.svg\" alt=\"Open In Colab\"/></a>"
      ]
    },
    {
      "cell_type": "markdown",
      "metadata": {
        "id": "1GNrOr-WiKQW"
      },
      "source": [
        "![alt text](https://drive.google.com/uc?export=view&id=1DXUVHxd4t15mfuqMgMCLnsP4jWVI5EWz)\n",
        "\n",
        "---\n",
        "\n",
        "<br>\n",
        "© 2022 Copyright The University of New South Wales - CRICOS 00098G\n",
        "\n",
        "**Authors**: Oscar Perez-Concha and Zhisheng (Sandy) Sa.\n",
        "\n",
        "**Communications**: If you have any questions, please email Oscar and Sandy at: o.perezconcha@unsw.edu.au and z.sa@unsw.edu.au\n",
        "\n",
        "**Please use email exclusively for communication with us regarding this assignment.**"
      ]
    },
    {
      "cell_type": "markdown",
      "source": [
        "# Final Assignment "
      ],
      "metadata": {
        "id": "N6T0wwT_GozJ"
      }
    },
    {
      "cell_type": "markdown",
      "source": [
        "\n",
        "\n",
        "---\n",
        "\n"
      ],
      "metadata": {
        "id": "R1skKevpG0jB"
      }
    },
    {
      "cell_type": "markdown",
      "source": [
        ""
      ],
      "metadata": {
        "id": "QmhnQ1KbGY0B"
      }
    },
    {
      "cell_type": "markdown",
      "metadata": {
        "id": "fN4p9w5eiKQY"
      },
      "source": [
        "#####################################################################################\n",
        "\n",
        "Double-click to write down your name and surname.\n",
        "\n",
        "**Name and Surname:** Jiayue Wang\n",
        "\n",
        "**Honour Pledge** <p>\n",
        "    \n",
        "    \n",
        "Declaration: <p>\n",
        "    \n",
        "    \n",
        "I declare that this assessment item is my own work, except where acknowledged, and has not been submitted for academic credit elsewhere or previously, or produced independently of this course (e.g. for a third party such as your place of employment) and acknowledge that the assessor of this item may, for the purpose of assessing this item: \n",
        "\n",
        "1. Reproduce this assessment item and provide a copy to another member of the University; and/or \n",
        "\n",
        "2. Communicate a copy of this assessment item to a plagiarism checking service (which may then retain a copy of the assessment item on its database for the purpose of future plagiarism checking). \n",
        "\n",
        "#####################################################################################"
      ]
    },
    {
      "cell_type": "markdown",
      "source": [
        "---\n",
        "# 1.  Health Data Science Scenario\n",
        " \n",
        "## 1a. Research Question\n",
        "\n",
        "Our hospital has been very proactive in terms of analysing data of its electronic medical record (EMR). By analysing the data, they have made very interesing discoveries:\n",
        "\n",
        "1. They identified that readmitted patients are not only those who were sicker in the first admission, but those who had less support at home after discharge or those patients that did not have a medical follow-up after discharge.\n",
        "2. Readmitted patients experienced high levels of emotional stress.\n",
        "3. Readmitted patients were at much higher risk of acquiring new infections while at hospital.\n",
        "4. Readmissions are highly costly. Patients that were readmitted for the reasons cited above tended to be sicker than they were when they were first admitted and their length of stay was significantly longer than their first admission.\n",
        "\n",
        "Our hospital has trialed a \"specialised unit\" that coordinates the patient's discharge. A team of nurses and OTs visit the patient's home after discharge. The frequency of the visits depends upon an assessment made before discharge, but the average number of visits is 5 across the board. Amongst other things, they make sure that the wounds are healing properly, medication is taken, that there is coordination with a GP in place and basic daily activities can be done, such as moving around their home, toilet, cooking, ...\n",
        "In addition, the specialised unit regularly contacts the patients via telephone to check that everything is going well. The patients can also contact the specialised unit if they need any help. \n",
        "\n",
        "This pilot has drastically reduced the number of readmissions. \n",
        "\n",
        "In addition, the cost of operating the specialised unit was much cheaper than the cost of readmissions.\n",
        "\n",
        "In terms of budget:\n",
        "1. A day in hospital costs 5,000 dollars per day on average; readmitted patients tend to stay an average of 4 days.\n",
        "2. A home visit of the specialised unit costs 400 dollars; the average number of visits is 5. \n",
        "3. No targeted patients: 0 dollars\n",
        "\n",
        "Our hospital is now ready to roll out and implement the specialised unit service to all patients at risk for readmission. \n",
        "The problem is that a priori, they do not know which patients are at risk of readmission. Thus, they do not know the patients they should be targeting.\n",
        "\n",
        "\n",
        "<b><font color=green>Goal/Research Question: </font>\n",
        "1. The hospital needs a machine learning algorithm to predict which patients should participate in this intervention. The prediction will be done just before discharge. They are hiring you to build this algorithm.\n",
        "\n",
        "2. You will need to explain to the hospital managers the performance of your algoritm, so they can make an informed decision whether to use your algorithm or not."
      ],
      "metadata": {
        "id": "PlVCjmaWCpzF"
      }
    },
    {
      "cell_type": "markdown",
      "source": [
        "\n",
        "\n",
        "---\n",
        "\n"
      ],
      "metadata": {
        "id": "k_dDoHDsl9X2"
      }
    },
    {
      "cell_type": "markdown",
      "source": [
        "## 1b. Instructions\n",
        "\n",
        "1. We are going to deliver one predictive model to predict readmission to hospital within 30 days of discharge. \n",
        "\n",
        "2. Check and study the data provided. Read the data dictionary carefully and check again the plots and graphs created in the exercises corresponding to weeks 1, 2 and 3. \n",
        "\n",
        "3. Since the data have been already provided by the hospital, we are going to skip the next steps of the health data science workflow (see image below). \n",
        "  - Step 3 and substeps 3a,3b,3c,3d,3e: Data Gathering.\n",
        "\n",
        "4. Step 4, substep 4a: Data visualization. Visualize the data in your draft, but do not include the graphs in the final submission.\n",
        "\n",
        "5. The hospital wants the model to capture as many \"readmissions\" as posible (true positives) even at the expense of <font color='green'><b> moderately</b> </font> increasing the number of false positives <font color='green'><b>  within reason</b></font> (that is, patients that are not at risk of readmission that are classified as readmission). \n",
        "\n",
        "6. Nevertheless, we must take into account that the hospital does not have unlimited resources, so they cannot considered a high number of patients at risk of readmission because the cost of the \"specialised unit\" would be very high.  \n",
        "\n",
        "7. You will design several machine learning algorithms, choose one, and give a rationale explaining why you choose that algorithm. \n",
        "\n",
        "    * Build some predictive models to predict readmission to hospital within 30 days of discharge using:  \n",
        "        *  'Logistic Regression Classifiers' \n",
        "        * 'Random Forest Classifier'. \n",
        "        \n",
        "8. Use the `classification_report` and confusion matrix metrics to evaluate your models. If you use other metrics, such as the ROC curve, do not include them in the final submission.\n",
        "\n",
        "9. <b> Very Important: Justify your decisions and why they were made in the space provided.</b>   Write <b>one or two sentences</b> for each section before each block of Python code with the description of what the blocks do; explanations must be clear; no “sanity checks” (although these checks are encouraged during the construction of the algorithms); \n",
        "\n",
        "10. Print clear labels in the printed results and explain in short and concise sentences the steps that you followed. \n",
        "\n",
        "11. Comment and document your code, as you will most likely later work in teams developing such algorithms.\n",
        "\n",
        "12. Format: Jupyter Notebook.\n",
        "13. Programming Language: Python.\n",
        "14. Platform: Google Colab.\n",
        "15. The assignment will be mark using the rubric provided in the outline\n",
        "\n",
        "16. **Submission: Upload the Jupyter Notebook in OpenLearning, in the section provided for that and on your GitHub space. The application wil close at exactly the date and time of the deadline.**\n",
        "\n",
        "17. Marks will be deducted if these instructions are not followed.\n",
        "\n",
        "18. <b><font color=green>Only the final version of the document must be submitted. </font></b>. \n",
        "\n",
        "19. Add your name and surname to the name of this document. For example. `Final-Assignment-Oscar-PerezConcha.ipynb`\n",
        "\n",
        "20. Each question is 10 marks, except question 8 that is 20 marks.\n",
        "\n",
        "21. If you have any questions, please email Oscar and Sandy at:\n",
        "o.perezconcha@unsw.edu.au and z.sa@unsw.edu.au"
      ],
      "metadata": {
        "id": "15VKZz_8G3s4"
      }
    },
    {
      "cell_type": "markdown",
      "source": [
        "![alt text](https://drive.google.com/uc?export=view&id=105SGqeyo8RgLhSO8mN7ZE5OsG0YiLPKt)"
      ],
      "metadata": {
        "id": "9wK1oQbhq5hX"
      }
    },
    {
      "cell_type": "markdown",
      "source": [
        "\n",
        "\n",
        "---\n",
        "\n"
      ],
      "metadata": {
        "id": "3eE8VXdpl_I2"
      }
    },
    {
      "cell_type": "code",
      "execution_count": 1,
      "metadata": {
        "id": "skbhUSeQiKQa",
        "colab": {
          "base_uri": "https://localhost:8080/"
        },
        "outputId": "0471d843-c844-4ff1-ac58-5f04fcc9601b"
      },
      "outputs": [
        {
          "output_type": "stream",
          "name": "stdout",
          "text": [
            "Installing:  {'grid', 'shap'}\n"
          ]
        }
      ],
      "source": [
        "# check required libraries are installed if not calling system to install\n",
        "import sys\n",
        "import subprocess\n",
        "import pkg_resources\n",
        "\n",
        "required = {'numpy', 'pandas', 'plotnine', 'matplotlib', 'seaborn', \n",
        "            'grid', 'shap', 'scikit-learn'}\n",
        "installed = {pkg.key for pkg in pkg_resources.working_set}\n",
        "missing = required - installed\n",
        "\n",
        "if missing:\n",
        "    print('Installing: ', missing)\n",
        "    python = sys.executable\n",
        "    subprocess.check_call([python, '-m', 'pip', 'install', *missing], stdout=subprocess.DEVNULL)\n",
        "# delete unwanted variables\n",
        "del required \n",
        "del installed \n",
        "del missing"
      ]
    },
    {
      "cell_type": "code",
      "execution_count": null,
      "metadata": {
        "id": "Y8p62DC4iKQb",
        "colab": {
          "base_uri": "https://localhost:8080/"
        },
        "outputId": "ab5db1a9-1723-4083-d581-ba745e276fef"
      },
      "outputs": [
        {
          "output_type": "stream",
          "name": "stdout",
          "text": [
            "Mounted at /content/drive\n"
          ]
        }
      ],
      "source": [
        "# Mount Google Drive\n",
        "# We do not need to run this cell if you are not running this notebook in Google Colab\n",
        "\n",
        "if 'google.colab' in str(get_ipython()):\n",
        "    from google.colab import drive # import drive from Gogle colab\n",
        "    root = '/content/drive'     # default location for the drive\n",
        "    # print(root)                 # print content of ROOT (Optional)\n",
        "    drive.mount(root)\n",
        "else:\n",
        "    print('Not running on CoLab')"
      ]
    },
    {
      "cell_type": "markdown",
      "source": [
        "Change the project paths and the paths according to where you have placed your files: "
      ],
      "metadata": {
        "id": "T70EJU8pAzeY"
      }
    },
    {
      "cell_type": "code",
      "execution_count": null,
      "metadata": {
        "id": "kRNGzaEjiKQc"
      },
      "outputs": [],
      "source": [
        "from pathlib import Path\n",
        "\n",
        "if 'google.colab' in str(get_ipython()):\n",
        "    # EDIT THE PROJECT PATH IF DIFFERENT WITH YOUR ONE\n",
        "    project_path = Path(root) / 'MyDrive' / 'HDAT9500' / 'final-assignment'\n",
        "\n",
        "    # OPTIONAL - set working directory according to your google drive project path\n",
        "    # import os\n",
        "    # Change directory to the location defined in project_path\n",
        "    # os.chdir(project_path)\n",
        "else:\n",
        "    project_path = Path()"
      ]
    },
    {
      "cell_type": "markdown",
      "source": [
        "\n",
        "\n",
        "---\n",
        "Function to plot the confusion matrix:\n"
      ],
      "metadata": {
        "id": "58McxBL6Angl"
      }
    },
    {
      "cell_type": "code",
      "source": [
        "def plot_confusion_matrix(confusion_matrix):\n",
        "  # visualise the confusion matrix\n",
        "  labels = ['No', 'Yes']\n",
        "  ax = plt.subplot()\n",
        "  sns.heatmap(confusion_matrix, annot = True, fmt = '.0f', ax = ax, cmap = 'viridis')\n",
        "\n",
        "  # labels, titles and ticks\n",
        "  ax.set_xlabel('Predicted labels')\n",
        "  ax.set_ylabel('True labels')\n",
        "  ax.set_title('Confusion Matrix')\n",
        "  ax.xaxis.set_ticklabels(labels)\n",
        "  ax.yaxis.set_ticklabels(labels)"
      ],
      "metadata": {
        "id": "ptWoRBD1os1T"
      },
      "execution_count": null,
      "outputs": []
    },
    {
      "cell_type": "markdown",
      "metadata": {
        "id": "IbpJocChpcTR"
      },
      "source": [
        "---\n",
        "# Question 1: Docstring\n",
        "\n",
        "Create a docstring with:\n",
        "1. The final aim of our program (50 words limit).\n",
        "2. The variables and constants that you will use in this exercise (data dictionary). It is expected that you choose informative variable names and document your program (both docstrings and comments). \n",
        "3. Divide the docstring in sections. One section per question.\n",
        "---"
      ]
    },
    {
      "cell_type": "markdown",
      "metadata": {
        "id": "q2zvhr_epcTS"
      },
      "source": [
        "<b> Final aim of our program:</b>\n",
        "\n",
        "################################################################################\n",
        "\n",
        "(double-click here)\n",
        "\n",
        "\n",
        "################################################################################"
      ]
    },
    {
      "cell_type": "markdown",
      "metadata": {
        "id": "-3wGayW7marI"
      },
      "source": [
        "<b> Constants and variables in alphabetical order:</b>\n",
        "\n",
        "################################################################################\n",
        "\n",
        "(double-click here)\n",
        "For example:\n",
        "\n",
        "\n",
        "---\n",
        "<b> Aim of this program </b>\n",
        "\n",
        "(...)\n",
        "\n",
        "---\n",
        "\n",
        "---\n",
        "<b> Question 1: </b>\n",
        "\n",
        "* `variable_1`: description\n",
        "* `CONSTANT`: description\n",
        "* ...\n",
        "\n",
        "---\n",
        "\n",
        "(...)\n",
        "\n",
        "---\n",
        "<b> Question 4: Training, and hyper-parameter tuning of the Logistic Regression model.</b>\n",
        "\n",
        "* `variable_10`: description\n",
        "* `CONSTANT`: description\n",
        "* ...\n",
        "\n",
        "---\n",
        "\n",
        "<b>Question 5: Evaluation of the Logistic Regression: </b>\n",
        "\n",
        "* `confusion_LR_test`: confusion matrix derived from `y_test` and `y_pred_LR_test` for the logistic regression model `grid_search_LR` evaluated on the test set. \n",
        "* `confusion_RF_test`: confusion matrix derived from `y_test` and `y_pred_RF_test` for the random forest model `grid_search_RF` evaluated on the test set. \n",
        "\n",
        "---\n",
        "\n",
        "<b>Question 5: ... </b>\n",
        "\n",
        "* `variable_200`: description\n",
        "* ...\n",
        "---\n",
        "\n",
        "################################################################################"
      ]
    },
    {
      "cell_type": "markdown",
      "source": [
        "\n",
        "\n",
        "---\n",
        "\n"
      ],
      "metadata": {
        "id": "ew1S59Vj1l2m"
      }
    },
    {
      "cell_type": "markdown",
      "source": [
        "---\n",
        "# Question 2: Read and check the `pickle` provided. Prepare the data so they can be used by the algorithms that you are going to create.\n",
        "---"
      ],
      "metadata": {
        "id": "DmqPFyIbnJci"
      }
    },
    {
      "cell_type": "markdown",
      "source": [
        "<b> Rationale: What are you doing to solve this question?-75 words limit:</b>\n",
        "\n",
        "\n",
        "################################################################################\n",
        "\n",
        "(double-click here)\n",
        "\n",
        "\n",
        "################################################################################"
      ],
      "metadata": {
        "id": "1AogtSxHxEW5"
      }
    },
    {
      "cell_type": "code",
      "source": [
        "import pickle\n",
        "pickle_data_path = Path(project_path) /'data'/'hospital_data_final_assignment.pickle'\n",
        "with open(pickle_data_path, 'rb') as data:\n",
        "   hospital = pickle.load(data)\n",
        "\n",
        "# Sanity Check:\n",
        "print(hospital.columns)\n",
        "print(hospital.shape)\n",
        "\n",
        "# Drop continuous variables represents ID\n",
        "hospital = hospital.drop(['admission_id','patient_id'], axis = 1)"
      ],
      "metadata": {
        "id": "DJJoTVRw049e",
        "outputId": "11c8bfa3-bd53-4f18-c7f3-7a57b6b1e429",
        "colab": {
          "base_uri": "https://localhost:8080/"
        }
      },
      "execution_count": null,
      "outputs": [
        {
          "output_type": "stream",
          "name": "stdout",
          "text": [
            "Index(['admission_id', 'patient_id', 'los', 'Age', 'number_diagnoses',\n",
            "       'num_lab_procedures', 'num_procedures', 'num_medications',\n",
            "       'number_emergency', 'number_inpatient', 'number_outpatient',\n",
            "       'sex_Female', 'sex_Male', 'max_glu_serum_>200', 'max_glu_serum_>300',\n",
            "       'max_glu_serum_None', 'max_glu_serum_Norm', 'A1Cresult_>7',\n",
            "       'A1Cresult_>8', 'A1Cresult_None', 'A1Cresult_Norm',\n",
            "       'group_name_1_Blood_&_immune', 'group_name_1_CNS',\n",
            "       'group_name_1_Cancer', 'group_name_1_Cardiac_&_circulatory',\n",
            "       'group_name_1_Digestive', 'group_name_1_Endocrine',\n",
            "       'group_name_1_Infectious', 'group_name_1_Mental_&_Substance',\n",
            "       'group_name_1_Other', 'group_name_1_Respiratory',\n",
            "       'group_name_2_Blood_&_immune', 'group_name_2_CNS',\n",
            "       'group_name_2_Cancer', 'group_name_2_Cardiac_&_circulatory',\n",
            "       'group_name_2_Digestive', 'group_name_2_Endocrine',\n",
            "       'group_name_2_Infectious', 'group_name_2_Mental_&_Substance',\n",
            "       'group_name_2_Other', 'group_name_2_Respiratory',\n",
            "       'group_name_3_Blood_&_immune', 'group_name_3_CNS',\n",
            "       'group_name_3_Cancer', 'group_name_3_Cardiac_&_circulatory',\n",
            "       'group_name_3_Digestive', 'group_name_3_Endocrine',\n",
            "       'group_name_3_Infectious', 'group_name_3_Mental_&_Substance',\n",
            "       'group_name_3_Other', 'group_name_3_Respiratory',\n",
            "       'discharge_disposition_grouped_Discharged to home',\n",
            "       'discharge_disposition_grouped_Home health service',\n",
            "       'discharge_disposition_grouped_Left AMA',\n",
            "       'discharge_disposition_grouped_Not available/Null',\n",
            "       'discharge_disposition_grouped_Other',\n",
            "       'discharge_disposition_grouped_Short term hospital',\n",
            "       'discharge_disposition_grouped_Transferred to ICF',\n",
            "       'discharge_disposition_grouped_Transferred to SNF',\n",
            "       'admission_source_grouped_Clinic Referral',\n",
            "       'admission_source_grouped_Emergency Room',\n",
            "       'admission_source_grouped_Not available/Null',\n",
            "       'admission_source_grouped_Other',\n",
            "       'admission_source_grouped_Physician Referral',\n",
            "       'admission_source_grouped_Transfer from SNF',\n",
            "       'admission_source_grouped_Transfer from another health care facility',\n",
            "       'admission_type_grouped_Elective', 'admission_type_grouped_Emergency',\n",
            "       'admission_type_grouped_Not Available/Null',\n",
            "       'admission_type_grouped_Trauma Centre', 'admission_type_grouped_Urgent',\n",
            "       'readmission'],\n",
            "      dtype='object')\n",
            "(69267, 72)\n"
          ]
        }
      ]
    },
    {
      "cell_type": "markdown",
      "source": [
        "---"
      ],
      "metadata": {
        "id": "1gsmCMIJ9oQ5"
      }
    },
    {
      "cell_type": "markdown",
      "source": [
        "---\n",
        "## Question 3: Divide the data into 80% training, 20% test, random seed of 42. Set the other hyper-parameters as you consider appropriate\n",
        "---\n"
      ],
      "metadata": {
        "id": "PRlUipB2-nMX"
      }
    },
    {
      "cell_type": "markdown",
      "source": [
        "<b> Rationale: What are you doing to solve this question?-75 words limit:</b>\n",
        "\n",
        "\n",
        "################################################################################\n",
        "\n",
        "(double-click here)\n",
        "\n",
        "\n",
        "################################################################################"
      ],
      "metadata": {
        "id": "7HjTXSR6-4cR"
      }
    },
    {
      "cell_type": "code",
      "source": [
        "# Python code here (2 lines limit, and 1 cell limit)\n"
      ],
      "metadata": {
        "id": "5LeXrTXc-4cR"
      },
      "execution_count": null,
      "outputs": []
    },
    {
      "cell_type": "markdown",
      "source": [
        "\n",
        "\n",
        "---\n",
        "\n"
      ],
      "metadata": {
        "id": "ZcRSCX5s1kPR"
      }
    },
    {
      "cell_type": "markdown",
      "source": [
        "---\n",
        "## Question 4: Training, and hyper-parameter tuning of the Logistic Regression model.  \n",
        "\n",
        "Hyper-parameters: \n",
        "\n",
        "- `C` values: 10, 100.\n",
        "- `class_weight`: only two pairs. Choose one of these two combinations and explain why.\n",
        "\n",
        "    * A weight of (80% for class 1, 20% for class 0) and (70% for class 1, 30% for class 0)\n",
        "    * A weight of (80% for class 0, 20% for class 1) and (70% for class 0, 30% for class 1). \n",
        "\n",
        "- `penalty` values: l1, l2.\n",
        "- 3-fold cross-validation for the grid search.\n",
        "- `f1` as the score to choose the best model in the grid search.\n",
        "- `n_jobs`=-1.\n",
        "- do not include the heatmaps in the final submission.\n",
        "- do not change these hyper-parameters, \n",
        "- keep the remaining set of hyper-parameters in the default state. \n",
        "---\n"
      ],
      "metadata": {
        "id": "b3v2JXmp1o5W"
      }
    },
    {
      "cell_type": "markdown",
      "source": [
        "<b> Rationale: What are you doing to solve this question?-75 words limit:</b>\n",
        "\n",
        "\n",
        "################################################################################\n",
        "\n",
        "(double-click here)\n",
        "\n",
        "\n",
        "################################################################################"
      ],
      "metadata": {
        "id": "p845NQAlAY-U"
      }
    },
    {
      "cell_type": "code",
      "source": [
        "# Python code here (15 lines limit, and 2 cells limit)\n"
      ],
      "metadata": {
        "id": "-ixDi9nvAY-d"
      },
      "execution_count": null,
      "outputs": []
    },
    {
      "cell_type": "markdown",
      "source": [
        "\n",
        "\n",
        "---\n",
        "\n"
      ],
      "metadata": {
        "id": "98-HHV0DNkkC"
      }
    },
    {
      "cell_type": "markdown",
      "source": [
        "---\n",
        "## Question 5: Evaluation of the Logistic Regression model on the training and test sets. Use the function `plot_confusion_matrix(confusion_matrix)` provided above.\n",
        "---"
      ],
      "metadata": {
        "id": "y2BLfWf9NmWf"
      }
    },
    {
      "cell_type": "markdown",
      "source": [
        "<b> Rationale: What are you doing to solve this question?-75 words limit:</b>\n",
        "\n",
        "\n",
        "################################################################################\n",
        "\n",
        "(double-click here)\n",
        "\n",
        "\n",
        "################################################################################"
      ],
      "metadata": {
        "id": "T0ZoopThNyaW"
      }
    },
    {
      "cell_type": "code",
      "source": [
        "# Python code here (10 lines limit, and 2 cells limit)\n"
      ],
      "metadata": {
        "id": "L1GEJ8kGNyaW"
      },
      "execution_count": null,
      "outputs": []
    },
    {
      "cell_type": "markdown",
      "source": [
        "\n",
        "\n",
        "---\n",
        "\n"
      ],
      "metadata": {
        "id": "CTIi2cd1yugI"
      }
    },
    {
      "cell_type": "markdown",
      "source": [
        "---\n",
        "## Question 6: Training, and hyper-parameter tuning of the Random Forest model.  \n",
        "\n",
        "Fixed hyper-parameters (do not change the values of these hyper-parameters): \n",
        "\n",
        "- `n_estimators`: 150, 200\n",
        "- `class_weight`: Only two pairs. Choose one of these two combinations and explain why.\n",
        "1. A weight of (80% for class 1, 20% for class 0) and (70% for class 1, 30% for class 0)\n",
        "2.  A weight of (80% for class 0, 20% for class 1) and (70% for class 0, 30% for class 1). \n",
        "- 3-fold cross-validation for the grid search.\n",
        "- `f1` as the score to choose the best model in the grid search.\n",
        "- `n_jobs`=-1\n",
        "- do not include the heatmaps in the final submission\n",
        "\n",
        "Other hyper-parameters: \n",
        "\n",
        "- `max_features`: 20, 30\n",
        "- `min_samples_split`: 20, 25\n",
        "- you can change the previous hyper-parameters (`max_features` and `min_samples_split`) or add other hyper-parameters if you wish. An explanation must be given to why you made that decision. \n",
        "\n",
        "---\n"
      ],
      "metadata": {
        "id": "iTQtpo_8yvX3"
      }
    },
    {
      "cell_type": "markdown",
      "source": [
        "<b> Rationale: What are you doing to solve this question?-75 words lilmit:</b>\n",
        "\n",
        "\n",
        "################################################################################\n",
        "\n",
        "(double-click here)\n",
        "\n",
        "\n",
        "################################################################################"
      ],
      "metadata": {
        "id": "fA5-7Qpe2SPC"
      }
    },
    {
      "cell_type": "code",
      "source": [
        "# Python code here (15 lines limit, and 2 cells limit)\n"
      ],
      "metadata": {
        "id": "9CHL7UB52SPJ"
      },
      "execution_count": null,
      "outputs": []
    },
    {
      "cell_type": "markdown",
      "source": [
        "---"
      ],
      "metadata": {
        "id": "_zu7iaT8AANM"
      }
    },
    {
      "cell_type": "markdown",
      "source": [
        "---\n",
        "## Question 7: Evaluation of the Random Forest model on the training and test sets. Use the function `plot_confusion_matrix(confusion_matrix)` provided above.\n",
        "---"
      ],
      "metadata": {
        "id": "xwh91teY3VgL"
      }
    },
    {
      "cell_type": "markdown",
      "source": [
        "<b> Rationale: What are you doing to solve this question?-50 words limit:</b>\n",
        "\n",
        "################################################################################\n",
        "\n",
        "(double-click here)\n",
        "\n",
        "\n",
        "################################################################################"
      ],
      "metadata": {
        "id": "hiHbV8Sf3VgT"
      }
    },
    {
      "cell_type": "code",
      "source": [
        "# Python code here (10 lines limit, and 2 cells limit)\n"
      ],
      "metadata": {
        "id": "Yk4wPAlV3VgU"
      },
      "execution_count": null,
      "outputs": []
    },
    {
      "cell_type": "markdown",
      "source": [
        "\n",
        "\n",
        "---\n",
        "\n"
      ],
      "metadata": {
        "id": "4CsbaxoQ3VgU"
      }
    },
    {
      "cell_type": "markdown",
      "source": [
        "---\n",
        "## Question 8: Based on the research questions and the instructions; What model would you choose if any? Would you deploy this model?  - 300 words limit.\n",
        "---"
      ],
      "metadata": {
        "id": "eMBZph5HA6AN"
      }
    },
    {
      "cell_type": "markdown",
      "source": [
        "<b> 300 words limit </b>\n",
        "\n",
        "################################################################################\n",
        "\n",
        "(double-click here)\n",
        "\n",
        "\n",
        "################################################################################"
      ],
      "metadata": {
        "id": "AXP5G5nrA6AO"
      }
    },
    {
      "cell_type": "code",
      "source": [
        "# Python code here (10 lines limit, and 2 cells limit)\n"
      ],
      "metadata": {
        "id": "heyMLNJtA6AO"
      },
      "execution_count": null,
      "outputs": []
    },
    {
      "cell_type": "markdown",
      "source": [
        "\n",
        "\n",
        "---\n",
        "\n"
      ],
      "metadata": {
        "id": "l63_Jk0mA6AP"
      }
    },
    {
      "cell_type": "markdown",
      "source": [
        "---\n",
        "## Question 9: Use SHAP for the final model and give some explanation of what you observe. If you haven't chosen any model in question 8, choose the best model according to the evaluation metrics. Comment the results.\n",
        "---"
      ],
      "metadata": {
        "id": "u0Wb9iHWASdT"
      }
    },
    {
      "cell_type": "markdown",
      "source": [
        "<b> Explanation of what you observe - 100 words limit:</b>\n",
        "\n",
        "################################################################################\n",
        "\n",
        "(double-click here)\n",
        "\n",
        "\n",
        "################################################################################"
      ],
      "metadata": {
        "id": "1IlYvZ83ASda"
      }
    },
    {
      "cell_type": "code",
      "source": [
        "# Python code here (10 lines limit, and 2 cells limit)\n"
      ],
      "metadata": {
        "id": "wh2VJms9ASda"
      },
      "execution_count": null,
      "outputs": []
    },
    {
      "cell_type": "markdown",
      "source": [
        "\n",
        "\n",
        "---\n",
        "\n"
      ],
      "metadata": {
        "id": "hrD9unXPAZQL"
      }
    },
    {
      "cell_type": "markdown",
      "metadata": {
        "id": "TYOVWp4ViKQq"
      },
      "source": [
        "© 2022 Copyright The University of New South Wales - CRICOS 00098G"
      ]
    }
  ],
  "metadata": {
    "colab": {
      "name": "Final-Assignment-Jiayue-Wang.ipynb",
      "provenance": [],
      "collapsed_sections": [
        "IbpJocChpcTR",
        "PRlUipB2-nMX",
        "b3v2JXmp1o5W",
        "y2BLfWf9NmWf",
        "iTQtpo_8yvX3",
        "xwh91teY3VgL",
        "eMBZph5HA6AN",
        "u0Wb9iHWASdT"
      ],
      "include_colab_link": true
    },
    "interpreter": {
      "hash": "aee8b7b246df8f9039afb4144a1f6fd8d2ca17a180786b69acc140d282b71a49"
    },
    "kernelspec": {
      "display_name": "Python 3.7.4 64-bit",
      "language": "python",
      "name": "python3"
    },
    "language_info": {
      "codemirror_mode": {
        "name": "ipython",
        "version": 3
      },
      "file_extension": ".py",
      "mimetype": "text/x-python",
      "name": "python",
      "nbconvert_exporter": "python",
      "pygments_lexer": "ipython3",
      "version": "3.7.4"
    }
  },
  "nbformat": 4,
  "nbformat_minor": 0
}